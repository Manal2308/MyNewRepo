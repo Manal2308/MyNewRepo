{
  "nbformat": 4,
  "nbformat_minor": 0,
  "metadata": {
    "colab": {
      "provenance": [],
      "authorship_tag": "ABX9TyMZb2ub3Cc4/BCQf7+7IAHh",
      "include_colab_link": true
    },
    "kernelspec": {
      "name": "python3",
      "display_name": "Python 3"
    },
    "language_info": {
      "name": "python"
    },
    "widgets": {
      "application/vnd.jupyter.widget-state+json": {
        "fe4768bc7778411ca37a3af62bddc20b": {
          "model_module": "@jupyter-widgets/controls",
          "model_name": "ButtonModel",
          "model_module_version": "1.5.0",
          "state": {
            "_dom_classes": [],
            "_model_module": "@jupyter-widgets/controls",
            "_model_module_version": "1.5.0",
            "_model_name": "ButtonModel",
            "_view_count": null,
            "_view_module": "@jupyter-widgets/controls",
            "_view_module_version": "1.5.0",
            "_view_name": "ButtonView",
            "button_style": "",
            "description": "Save Favorite Program!",
            "disabled": false,
            "icon": "",
            "layout": "IPY_MODEL_15ba72cf770241ae82c5035203b0b468",
            "style": "IPY_MODEL_245ed6ac90ec420ea8a9a798975596f1",
            "tooltip": ""
          }
        },
        "15ba72cf770241ae82c5035203b0b468": {
          "model_module": "@jupyter-widgets/base",
          "model_name": "LayoutModel",
          "model_module_version": "1.2.0",
          "state": {
            "_model_module": "@jupyter-widgets/base",
            "_model_module_version": "1.2.0",
            "_model_name": "LayoutModel",
            "_view_count": null,
            "_view_module": "@jupyter-widgets/base",
            "_view_module_version": "1.2.0",
            "_view_name": "LayoutView",
            "align_content": null,
            "align_items": null,
            "align_self": null,
            "border": null,
            "bottom": null,
            "display": null,
            "flex": null,
            "flex_flow": null,
            "grid_area": null,
            "grid_auto_columns": null,
            "grid_auto_flow": null,
            "grid_auto_rows": null,
            "grid_column": null,
            "grid_gap": null,
            "grid_row": null,
            "grid_template_areas": null,
            "grid_template_columns": null,
            "grid_template_rows": null,
            "height": null,
            "justify_content": null,
            "justify_items": null,
            "left": null,
            "margin": null,
            "max_height": null,
            "max_width": null,
            "min_height": null,
            "min_width": null,
            "object_fit": null,
            "object_position": null,
            "order": null,
            "overflow": null,
            "overflow_x": null,
            "overflow_y": null,
            "padding": null,
            "right": null,
            "top": null,
            "visibility": null,
            "width": null
          }
        },
        "245ed6ac90ec420ea8a9a798975596f1": {
          "model_module": "@jupyter-widgets/controls",
          "model_name": "ButtonStyleModel",
          "model_module_version": "1.5.0",
          "state": {
            "_model_module": "@jupyter-widgets/controls",
            "_model_module_version": "1.5.0",
            "_model_name": "ButtonStyleModel",
            "_view_count": null,
            "_view_module": "@jupyter-widgets/base",
            "_view_module_version": "1.2.0",
            "_view_name": "StyleView",
            "button_color": null,
            "font_weight": ""
          }
        }
      }
    }
  },
  "cells": [
    {
      "cell_type": "markdown",
      "metadata": {
        "id": "view-in-github",
        "colab_type": "text"
      },
      "source": [
        "<a href=\"https://colab.research.google.com/github/Manal2308/MyNewRepo/blob/main/tirgul1.ipynb\" target=\"_parent\"><img src=\"https://colab.research.google.com/assets/colab-badge.svg\" alt=\"Open In Colab\"/></a>"
      ]
    },
    {
      "cell_type": "code",
      "source": [
        "x=6\n",
        "print(x)"
      ],
      "metadata": {
        "colab": {
          "base_uri": "https://localhost:8080/"
        },
        "id": "KrfEVzqu35JE",
        "outputId": "b8201445-92b2-41cf-b725-03f0b4ad3b9e"
      },
      "execution_count": 3,
      "outputs": [
        {
          "output_type": "stream",
          "name": "stdout",
          "text": [
            "6\n"
          ]
        }
      ]
    },
    {
      "cell_type": "code",
      "execution_count": 1,
      "metadata": {
        "colab": {
          "base_uri": "https://localhost:8080/"
        },
        "id": "sPDglUkw3TvC",
        "outputId": "a6efca48-6bf2-4f0c-c55b-862b1662b026"
      },
      "outputs": [
        {
          "output_type": "stream",
          "name": "stdout",
          "text": [
            "I'm Manal\n"
          ]
        }
      ],
      "source": [
        "print(\"I'm Manal\")"
      ]
    },
    {
      "cell_type": "code",
      "source": [
        "import ipywidgets as widgets\n",
        "from IPython.display import display\n",
        "\n",
        "Name = 'Manal' #@param [\"Manal\", \"Fatma\", \"Nahla\"]\n",
        "\n",
        "with open('students.txt','r') as file:\n",
        "  lines = file.readlines()\n",
        "  for line in lines:\n",
        "    if line.startswith(Name):\n",
        "        print(line.strip())\n",
        "        break\n",
        "\n",
        "Favorite_Program = '52412' #@param {type:\"string\"}\n",
        "button = widgets.Button(description=\"Save Favorite Program!\")\n",
        "favorite_program = Favorite_Program.strip()\n",
        "selected_name = Name.strip()\n",
        "\n",
        "def on_button_clicked(button):\n",
        "  # Display the message within the output widget.\n",
        "    with open('students.txt', 'a') as file:\n",
        "      file.write(f\"\\n{selected_name}, Favorite Program: {favorite_program}\")\n",
        "button.on_click(on_button_clicked)\n",
        "display(button)\n",
        "\n"
      ],
      "metadata": {
        "colab": {
          "base_uri": "https://localhost:8080/",
          "height": 66,
          "referenced_widgets": [
            "fe4768bc7778411ca37a3af62bddc20b",
            "15ba72cf770241ae82c5035203b0b468",
            "245ed6ac90ec420ea8a9a798975596f1"
          ]
        },
        "id": "ldN288EF4inl",
        "outputId": "ed920fd9-f1dc-4549-ed50-ce916c258d56"
      },
      "execution_count": 26,
      "outputs": [
        {
          "output_type": "stream",
          "name": "stdout",
          "text": [
            "Manal, Favorite Program: 52412\n"
          ]
        },
        {
          "output_type": "display_data",
          "data": {
            "text/plain": [
              "Button(description='Save Favorite Program!', style=ButtonStyle())"
            ],
            "application/vnd.jupyter.widget-view+json": {
              "version_major": 2,
              "version_minor": 0,
              "model_id": "fe4768bc7778411ca37a3af62bddc20b"
            }
          },
          "metadata": {}
        }
      ]
    }
  ]
}